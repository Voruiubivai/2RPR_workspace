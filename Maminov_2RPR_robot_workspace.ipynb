{
 "cells": [
  {
   "cell_type": "code",
   "execution_count": 33,
   "metadata": {},
   "outputs": [],
   "source": [
    "import numpy as np\n",
    "import matplotlib.pyplot as plt\n",
    "import math\n",
    "from ipywidgets import interact\n",
    "import matplotlib.patches as matpatch\n",
    "from descartes.patch import PolygonPatch\n",
    "from shapely.ops import cascaded_union, polygonize\n",
    "from matplotlib.patches import Circle\n",
    "from matplotlib.patches import Rectangle\n",
    "from scipy.integrate import quad, dblquad\n",
    "from scipy import interpolate\n",
    "import shapely.geometry as sg\n",
    "import descartes\n",
    "from scipy import optimize \n",
    "from mpl_toolkits.mplot3d import Axes3D\n",
    "#import sobol_seq\n",
    "%matplotlib notebook"
   ]
  },
  {
   "cell_type": "markdown",
   "metadata": {},
   "source": [
    "# Алгоритм Монте-Карло для нахождения площади сложной фигуры"
   ]
  },
  {
   "cell_type": "markdown",
   "metadata": {},
   "source": [
    "<img src=\"2rpr.jpg\">"
   ]
  },
  {
   "cell_type": "markdown",
   "metadata": {},
   "source": [
    "https://www.researchgate.net/publication/245038755_Workspace_optimization_and_kinematic_performance_evaluation_of_2DOF_parallel_mechanisms"
   ]
  },
  {
   "cell_type": "markdown",
   "metadata": {},
   "source": [
    "### Робот 2-RPR\n",
    "Робот состоит из двух штанг переменной длинны и известно расстояние между основаниями штанг\n",
    "\n",
    "Задача: найти площадь рабочей области робота и нарисовать её"
   ]
  },
  {
   "cell_type": "code",
   "execution_count": 2,
   "metadata": {},
   "outputs": [],
   "source": [
    "def check_circ_lit(x, y, x0, y0, r):#проверяем лежит ли точка вне малой окр-ти\n",
    "    \"\"\"\n",
    "    Check point if it is outside lower limit of leg (what is the same if these points outside the smallest circles)\n",
    "    \n",
    "    Parameters\n",
    "    ----------\n",
    "    x, y : float, the coordinates of points\n",
    "    x0, y0 : float, the coordinates of the circle's center\n",
    "    r : float, radius of the circle\n",
    "    Returns\n",
    "    -------\n",
    "    Boolean massive of all points which are outside the smallest circles\n",
    "    \n",
    "    \"\"\"\n",
    "    return (((x - x0)**2 + (y - y0)**2) >= r**2)"
   ]
  },
  {
   "cell_type": "code",
   "execution_count": 3,
   "metadata": {},
   "outputs": [],
   "source": [
    "def check_circ_big(x, y, x0, y0, r):#проверяем лежит ли точка вне малой окр-ти\n",
    "    \"\"\"\n",
    "    Check points if it is inside the higher limit of leg (what is the same if these points inside the biggest circles)\n",
    "    \n",
    "    Parameters\n",
    "    ----------\n",
    "    x, y : float, the coordinates of points\n",
    "    x0, y0 : float, the coordinates of the circle's center\n",
    "    r : float, radius of the circle\n",
    "    Returns\n",
    "    -------\n",
    "    Boolean massive of all points which are inside the biggest circles\n",
    "    \n",
    "    return ((x - x0)**2 + (y - y0)**2 <= r**2)\n",
    "    \n",
    "    \"\"\"\n",
    "    return ((x - x0)**2 + (y - y0)**2 <= r**2)"
   ]
  },
  {
   "cell_type": "code",
   "execution_count": 55,
   "metadata": {},
   "outputs": [],
   "source": [
    "def fun(x):\n",
    "    return [x[0]**2+x[1]**2-l1**2,\n",
    "            x[1]**2+(d-x[0])**2-l2**2]"
   ]
  },
  {
   "cell_type": "code",
   "execution_count": 52,
   "metadata": {},
   "outputs": [],
   "source": [
    "l1_l = 3\n",
    "l2_l = 3\n",
    "l1_h = 25\n",
    "l2_h = 25"
   ]
  },
  {
   "cell_type": "code",
   "execution_count": 59,
   "metadata": {},
   "outputs": [
    {
     "data": {
      "application/vnd.jupyter.widget-view+json": {
       "model_id": "659e04ea68bf4e6481fec74219fb001c",
       "version_major": 2,
       "version_minor": 0
      },
      "text/plain": [
       "interactive(children=(IntSlider(value=9, description='d', max=15, min=3), Output()), _dom_classes=('widget-int…"
      ]
     },
     "metadata": {},
     "output_type": "display_data"
    },
    {
     "data": {
      "text/plain": [
       "<function __main__.visual_cond_numb(d)>"
      ]
     },
     "execution_count": 59,
     "metadata": {},
     "output_type": "execute_result"
    }
   ],
   "source": [
    "interact(visual_cond_numb, d=(3,15))"
   ]
  },
  {
   "cell_type": "code",
   "execution_count": 48,
   "metadata": {},
   "outputs": [],
   "source": [
    "def visual_cond_numb(d):\n",
    "    L1 = np.linspace(l1_l, l1_h, l1_h-l1_l)\n",
    "    L2 = np.linspace(l2_l, l2_h, l2_h-l2_l)\n",
    "    L1, L2 = np.meshgrid(L1, L2)\n",
    "    K_mat = np.zeros([l1_h-l1_l, l2_h-l2_l])\n",
    "    T_mat = np.zeros([l1_h-l1_l, l2_h-l2_l])\n",
    "    S_mat = np.zeros([l1_h-l1_l, l2_h-l2_l])\n",
    "    M_mat = np.zeros([l1_h-l1_l, l2_h-l2_l])\n",
    "    for i in range(l1_l, l1_h):\n",
    "        for j in range(l2_l, l2_h):\n",
    "            K_mat[i-l1_l,j-l2_l] = cond_numb(i, j, d)[0]\n",
    "            T_mat[i-l1_l,j-l2_l] = cond_numb(i, j, d)[1]\n",
    "            if cond_numb(i, j, d)[2]!=0:\n",
    "                S_mat[i-l1_l,j-l2_l] = 1/cond_numb(i, j, d)[2]\n",
    "            else:\n",
    "                S_mat[i-l1_l,j-l2_l] = cond_numb(i, j, d)[2]\n",
    "            M_mat[i-l1_l,j-l2_l] = cond_numb(i, j, d)[3]\n",
    "    fig = plt.figure(figsize=(10, 10))\n",
    "    \n",
    "    ax1 = fig.add_subplot(221, projection='3d')\n",
    "    ax1.set_ylabel('l2')\n",
    "    ax1.set_xlabel('l1')\n",
    "    ax1.set_title('The condition number of Jacobian matrix')\n",
    "    ax1.set_zlabel('k')\n",
    "    surf = ax1.plot_surface(L1, L2, K_mat, cmap='rainbow',\n",
    "                           linewidth=0.1, antialiased=False)\n",
    "    #cbar = fig.colorbar(surf)\n",
    "    ax1.grid()\n",
    "    print('Min condition number of Jacobian matrix',np.min(K_mat[K_mat>=1]))\n",
    "    \n",
    "    ax2 = fig.add_subplot(222, projection='3d')\n",
    "    ax2.set_ylabel('l2')\n",
    "    ax2.set_xlabel('l1')\n",
    "    ax2.set_title('Transmission quality index')\n",
    "    ax2.set_zlabel('T')\n",
    "    surf = ax2.plot_surface(L1, L2, T_mat, cmap='rainbow',\n",
    "                           linewidth=0.1, antialiased=False)\n",
    "    #cbar = ax2.colorbar(surf)\n",
    "    ax2.grid()\n",
    "    print('Max transmission quality ',np.max(T_mat))\n",
    "    \n",
    "    ax3 = fig.add_subplot(223, projection='3d')\n",
    "    ax3.set_ylabel('l2')\n",
    "    ax3.set_xlabel('l1')\n",
    "    ax3.set_title('Stiffness index')\n",
    "    ax3.set_zlabel('S')\n",
    "    surf = ax3.plot_surface(L1, L2, S_mat, cmap='rainbow',\n",
    "                           linewidth=0.1, antialiased=False)\n",
    "    #cbar = ax2.colorbar(surf)\n",
    "    ax3.grid()\n",
    "    print('Max stiffness index ',np.max(S_mat))\n",
    "    \n",
    "    ax4 = fig.add_subplot(224, projection='3d')\n",
    "    ax4.set_ylabel('l2')\n",
    "    ax4.set_xlabel('l1')\n",
    "    ax4.set_title('Manipulability index')\n",
    "    ax4.set_zlabel('M')\n",
    "    surf = ax4.plot_surface(L1, L2, M_mat, cmap='rainbow',\n",
    "                           linewidth=0.1, antialiased=False)\n",
    "    #cbar = ax2.colorbar(surf)\n",
    "    ax4.grid()\n",
    "    print('Max manipulability index ',np.max(M_mat))"
   ]
  },
  {
   "cell_type": "code",
   "execution_count": 58,
   "metadata": {},
   "outputs": [],
   "source": [
    "def cond_numb(l1, l2, d):\n",
    "    #sol = optimize.root(fun, [0, 0], method='hybr')\n",
    "    #x = sol.x\n",
    "    k = 0\n",
    "    T = 0\n",
    "    S = 0\n",
    "    M = 0\n",
    "    J = np.array([[0 , 0],\n",
    "                [0, 0]])\n",
    "    if (l1<=l2+d) and (l2<=l1+d) and (d<=l1+l2):\n",
    "        x1 = (d**2+l1**2-l2**2)/(2*d)\n",
    "        x2 = math.sqrt(l1**2-x1**2)\n",
    "        #print(x1,x2)\n",
    "        J_teta = np.array([[l1, 0],\n",
    "                       [0, l2]])\n",
    "        J_x = np.array([[x1, x2],\n",
    "                   [x1-d, x2]])\n",
    "        #if np.linalg.det(J_x) == 0:\n",
    "        #    print('Сингулярность первого типа')\n",
    "        #    print(l1,l2)\n",
    "        #if np.linalg.det(J_teta) == 0:\n",
    "        #    print('Сингулярность второго типа типа')\n",
    "        #    print(l1,l2)\n",
    "        if (np.linalg.det(J_x) != 0) and (np.linalg.det(J_teta) != 0):\n",
    "            J = np.dot(-np.linalg.inv(J_teta), J_x)\n",
    "            #print(J)\n",
    "            k = np.linalg.norm(J)*np.linalg.norm(np.linalg.inv(J))\n",
    "            T = (np.linalg.norm(np.eye(2))**2)/(np.linalg.norm(J)*np.linalg.norm(np.linalg.inv(J)))\n",
    "            S = np.linalg.norm(np.linalg.inv(np.dot(J,J.T)))*np.linalg.norm(np.dot(J,J.T))\n",
    "            M = np.linalg.det(J)\n",
    "            #print(k, T, S, M)\n",
    "    return(k, T, S, M)"
   ]
  },
  {
   "cell_type": "code",
   "execution_count": null,
   "metadata": {},
   "outputs": [],
   "source": []
  },
  {
   "cell_type": "markdown",
   "metadata": {},
   "source": [
    "### Алгоритм Монте-Карло\n",
    "1) Ограничим нашу рабочую область прямоугольником с известными сторонами\n",
    "\n",
    "2) Заполним прямоугольник случайным образом $N$-точками\n",
    "\n",
    "3) Площадь искомой области будет вычисляться по формуле: $S=\\dfrac{(b-a)\\cdot (c-d) \\cdot  K}{N}$, где $a$ и $b$ - левая и правая границы интегрирования, $с$ и $d$ - верхняя и нижняя границы интегрирования, $K$ - кол-во точек, которые попали в искомую область"
   ]
  },
  {
   "cell_type": "markdown",
   "metadata": {},
   "source": [
    "Все точки рабочей области должны удоволетворять условиям, что они вне малых окружностей и внутри больших окружностей"
   ]
  },
  {
   "cell_type": "code",
   "execution_count": 4,
   "metadata": {},
   "outputs": [],
   "source": [
    "def Monte_Carlo(l1_l, l2_l, l1_h, l2_h, d, p, seed=1234):\n",
    "    \"\"\" \n",
    "    Compute the area of 2-RPR robot's workspace with Monte Carlo method\n",
    "    \n",
    "    Parameters\n",
    "    ----------\n",
    "    l1_l, l2_l : float, the lowest limit of legs\n",
    "    l1_h, l2_h : float, the highest limit of legs\n",
    "    d : float, length between legs of the robot\n",
    "    p : int, amount of points\n",
    "    seed : int, seed for rng, default = 1234\n",
    "    Returns\n",
    "    -------\n",
    "    area: float , area of 2-RPR robot's workspace\n",
    "    Xl, Xh : float, X-axis limits for MC rectangle\n",
    "    Yl, Yh : float, Y-axis limits for MC rectangle\n",
    "    \n",
    "    \"\"\"\n",
    "    prng = np.random.RandomState(seed)\n",
    "    Xp = (-l2_h**2 + l1_h**2 + d**2)/(2*d)\n",
    "    Yp = math.sqrt(l1_h**2 - Xp**2)\n",
    "    if l1_h <= l2_h:\n",
    "        Yh = l1_h\n",
    "    else:\n",
    "        Yh = l2_h\n",
    "    Xl = d - l2_h\n",
    "    Xh = l1_h+abs(d - l2_h)\n",
    "    Yl = 0\n",
    "    X = prng.uniform(Xl, Xh, size=p)\n",
    "    Y = prng.uniform(Yl, Yh, size=p)\n",
    "    c = 0\n",
    "    c = sum((check_circ_lit(X, Y, 0, 0, l1_l)) & (check_circ_lit(X, Y, d, 0, l2_l)) &\n",
    "            (check_circ_big(X, Y, d, 0, l2_h)) & (check_circ_big(X, Y, 0, 0, l1_h)))\n",
    "    area = ((Xh-Xl)*Yh*c/p)\n",
    "    return area, Xl, Xh, Yl, Yh"
   ]
  },
  {
   "cell_type": "code",
   "execution_count": 5,
   "metadata": {},
   "outputs": [],
   "source": [
    "def Ravnomern_net(l1_l, l2_l, l1_h, l2_h, d, p, seed=1234):\n",
    "    \"\"\" \n",
    "    Compute the area of 2-RPR robot's workspace with Monte Carlo method\n",
    "    \n",
    "    Parameters\n",
    "    ----------\n",
    "    l1_l, l2_l : float, the lowest limit of legs\n",
    "    l1_h, l2_h : float, the highest limit of legs\n",
    "    d : float, length between legs of the robot\n",
    "    p : int, amount of points\n",
    "    seed : int, seed for rng, default = 1234\n",
    "    Returns\n",
    "    -------\n",
    "    area: float , area of 2-RPR robot's workspace\n",
    "    Xl, Xh : float, X-axis limits for MC rectangle\n",
    "    Yl, Yh : float, Y-axis limits for MC rectangle\n",
    "    \n",
    "    \"\"\"\n",
    "    prng = np.random.RandomState(seed)\n",
    "    Xp = (-l2_h**2 + l1_h**2 + d**2)/(2*d)\n",
    "    Yp = math.sqrt(l1_h**2 - Xp**2)\n",
    "    if l1_h <= l2_h:\n",
    "        Yh = l1_h\n",
    "    else:\n",
    "        Yh = l2_h\n",
    "    Xl = d - l2_h\n",
    "    Xh = l1_h+abs(d - l2_h)\n",
    "    Yl = 0\n",
    "    X1 = np.linspace(Xl, Xh+Xl, p)\n",
    "    Y1 = np.linspace(Yl, Yh, p)\n",
    "    X, Y = np.meshgrid(X1, Y1)\n",
    "    X = X.ravel()\n",
    "    Y = Y.ravel()\n",
    "    c = 0\n",
    "    c = sum((check_circ_lit(X, Y, 0, 0, l1_l)) & (check_circ_lit(X, Y, d, 0, l2_l)) &\n",
    "            (check_circ_big(X, Y, d, 0, l2_h)) & (check_circ_big(X, Y, 0, 0, l1_h)))\n",
    "    print(Xh,Xl,Yh,c,p)\n",
    "    area = ((Xh-Xl)*Yh*c/p**2)\n",
    "    return area, Xl, Xh, Yl, Yh"
   ]
  },
  {
   "cell_type": "code",
   "execution_count": 6,
   "metadata": {},
   "outputs": [],
   "source": [
    "def draw_and_compute(l1_l, l2_l, l1_h, l2_h, d):\n",
    "    \"\"\" \n",
    "    Draw the workspace of 2-RPR robot, computing its area with shapely and MC-algorithm \n",
    "    \n",
    "    Parameters\n",
    "    ----------\n",
    "    l1_l, l2_l : float, the lowest limit of legs\n",
    "    l1_h, l2_h : float, the highest limit of legs\n",
    "    d : float, length between legs of the robot\n",
    "    Returns\n",
    "    -------\n",
    "    \n",
    "    \"\"\"\n",
    "    p=100000\n",
    "    Ax=[]\n",
    "    Ay=[]\n",
    "    if (l1_l<l1_h) and (l2_l<l2_h):\n",
    "        area,Xl,Xh,Yl,Yh=Monte_Carlo(l1_l,l2_l,l1_h,l2_h,d,p)\n",
    "        area_ravn = Ravnomern_net(l1_l,l2_l,l1_h,l2_h,d,100)[0]\n",
    "        X1 = np.linspace(Xl, Xh+Xl, 10)\n",
    "        Y1 = np.linspace(Yl, Yh, 10)\n",
    "        X, Y = np.meshgrid(X1, Y1)\n",
    "        l1_l+=0.00000000000001\n",
    "        l2_l+=0.00000000000001\n",
    "        fig, ax = plt.subplots()\n",
    "        x_min, y_min, x_max, y_max=-l1_h-1,-l1_h-1,d+l2_h+1,l2_h+1\n",
    "        ax.set_xlim([x_min, x_max])\n",
    "        ax.set_ylim([y_min, y_max])\n",
    "        a = sg.Point(0,0).buffer(l1_l)# задаём оркужности через shapely, чтобы построить пересечение колец и найти площадь пересечения\n",
    "        b = sg.Point(0,0).buffer(l1_h)\n",
    "        c = sg.Point(d,0).buffer(l2_l)\n",
    "        e = sg.Point(d,0).buffer(l2_h)\n",
    "        ab=b.difference(a)# строим кольца из большой и малой окружности\n",
    "        cd=e.difference(c)\n",
    "        middle = ab.intersection(cd)\n",
    "        print('Площадь через алгоритм Монте-Карло =',area)\n",
    "        print('Площадь через равномерную сетку =',area_ravn)\n",
    "        print('Приблизительное значение площади, посчитанная через shapely =',middle.area/2)\n",
    "        circle1 = Circle((0, 0), radius=l1_l, fill=False, color='r')# задаём окружности через matplotlib\n",
    "        circle2 = Circle((0, 0), radius=l1_h, fill=False, color='r')\n",
    "        circle3 = Circle((d, 0), radius=l2_l, fill=False, color='b')\n",
    "        circle4 = Circle((d, 0), radius=l2_h, fill=False, color='b')\n",
    "        rect1=Rectangle([Xl,Yl],Xh,Yh, fill=False, color='g', linewidth=2.0)\n",
    "        ax.add_patch(descartes.PolygonPatch(middle, fc='b', ec='k', alpha=0.2))# отрисовываем\n",
    "        ax.add_patch(circle1)\n",
    "        ax.add_patch(circle2)\n",
    "        ax.add_patch(circle3)\n",
    "        ax.add_patch(circle4)\n",
    "        ax.add_patch(rect1)\n",
    "        ax.scatter(X,Y)\n",
    "        ax.grid()\n",
    "        ax.axes.set_aspect('equal')\n",
    "    else:\n",
    "        print('Неверные данные')"
   ]
  },
  {
   "cell_type": "markdown",
   "metadata": {},
   "source": [
    "### Рабочая область 2-RPR\n",
    "Рабочая область робота представляет собой пересечение колец, образованных попарно окружностями малых и больших длин каждой штанги, так же стоит отметить, что эта область симметрична относително оси Х и нам достаточно будет найти площадь верхней(или нижней) полуплоскости. "
   ]
  },
  {
   "cell_type": "code",
   "execution_count": 78,
   "metadata": {
    "scrolled": false
   },
   "outputs": [
    {
     "data": {
      "application/vnd.jupyter.widget-view+json": {
       "model_id": "0a0bf50ec24f41759ea7c279ce571d47",
       "version_major": 2,
       "version_minor": 0
      },
      "text/plain": [
       "interactive(children=(IntSlider(value=9, description='l1_l', max=15, min=3), IntSlider(value=9, description='l…"
      ]
     },
     "metadata": {},
     "output_type": "display_data"
    },
    {
     "data": {
      "text/plain": [
       "<function __main__.draw_and_compute(l1_l, l2_l, l1_h, l2_h, d)>"
      ]
     },
     "execution_count": 78,
     "metadata": {},
     "output_type": "execute_result"
    }
   ],
   "source": [
    "interact(draw_and_compute, l1_l=(3,15), l2_l=(3,15), l1_h=(5,20), l2_h=(5,20), d=(3,15))"
   ]
  },
  {
   "cell_type": "code",
   "execution_count": 123,
   "metadata": {},
   "outputs": [
    {
     "ename": "IndexError",
     "evalue": "too many indices for array",
     "output_type": "error",
     "traceback": [
      "\u001b[1;31m---------------------------------------------------------------------------\u001b[0m",
      "\u001b[1;31mIndexError\u001b[0m                                Traceback (most recent call last)",
      "\u001b[1;32m<ipython-input-123-64c69a805386>\u001b[0m in \u001b[0;36m<module>\u001b[1;34m\u001b[0m\n\u001b[1;32m----> 1\u001b[1;33m \u001b[0mJ_mat\u001b[0m\u001b[1;33m[\u001b[0m\u001b[1;33m:\u001b[0m\u001b[1;33m,\u001b[0m \u001b[0mJ_mat\u001b[0m\u001b[1;33m>\u001b[0m\u001b[1;36m1\u001b[0m\u001b[1;33m]\u001b[0m\u001b[1;33m\u001b[0m\u001b[1;33m\u001b[0m\u001b[0m\n\u001b[0m",
      "\u001b[1;31mIndexError\u001b[0m: too many indices for array"
     ]
    }
   ],
   "source": [
    "J_mat[:, J_mat>1]"
   ]
  },
  {
   "cell_type": "code",
   "execution_count": 118,
   "metadata": {},
   "outputs": [
    {
     "data": {
      "text/plain": [
       "array([[0.        , 0.        , 0.        , 0.        , 0.        ,\n",
       "        2.41897263, 2.03520158, 2.02288695, 2.2453656 , 2.95481765,\n",
       "        0.        , 0.        ],\n",
       "       [0.        , 0.        , 0.        , 0.        , 2.56205046,\n",
       "        2.10544542, 2.00173837, 2.04124145, 2.2043095 , 2.56205046,\n",
       "        3.47100814, 0.        ],\n",
       "       [0.        , 0.        , 0.        , 2.63180678, 2.15410109,\n",
       "        2.01917863, 2.00445931, 2.06559112, 2.20176211, 2.44452933,\n",
       "        2.89533012, 3.97613368],\n",
       "       [0.        , 0.        , 2.63180678, 2.17088168, 2.03267122,\n",
       "        2.        , 2.02524724, 2.09656967, 2.21739157, 2.40535118,\n",
       "        2.70426503, 3.23316151],\n",
       "       [0.        , 2.56205046, 2.15410109, 2.03267122, 2.00041662,\n",
       "        2.01361026, 2.05921942, 2.13504205, 2.2453656 , 2.40153208,\n",
       "        2.62694372, 2.97251318],\n",
       "       [2.41897263, 2.10544542, 2.01917863, 2.        , 2.01361026,\n",
       "        2.04964037, 2.10544542, 2.1821789 , 2.28402953, 2.41897263,\n",
       "        2.60127046, 2.85773803],\n",
       "       [2.03520158, 2.00173837, 2.00445931, 2.02524724, 2.05921942,\n",
       "        2.10544542, 2.16481606, 2.23957004, 2.33345238, 2.45236925,\n",
       "        2.60579711, 2.80977315],\n",
       "       [2.02288695, 2.04124145, 2.06559112, 2.09656967, 2.13504205,\n",
       "        2.1821789 , 2.23957004, 2.30940108, 2.39473736, 2.5       ,\n",
       "        2.63180678, 2.80056017],\n",
       "       [2.2453656 , 2.2043095 , 2.20176211, 2.21739157, 2.2453656 ,\n",
       "        2.28402953, 2.33345238, 2.39473736, 2.46990216, 2.56205046,\n",
       "        2.67582025, 2.81825551],\n",
       "       [2.95481765, 2.56205046, 2.44452933, 2.40535118, 2.40153208,\n",
       "        2.41897263, 2.45236925, 2.5       , 2.56205046, 2.64009167,\n",
       "        2.73707905, 2.85773803],\n",
       "       [0.        , 3.47100814, 2.89533012, 2.70426503, 2.62694372,\n",
       "        2.60127046, 2.60579711, 2.63180678, 2.67582025, 2.73707905,\n",
       "        2.81666667, 2.91734949],\n",
       "       [0.        , 0.        , 3.97613368, 3.23316151, 2.97251318,\n",
       "        2.85773803, 2.80977315, 2.80056017, 2.81825551, 2.85773803,\n",
       "        2.91734949, 2.99769892]])"
      ]
     },
     "execution_count": 118,
     "metadata": {},
     "output_type": "execute_result"
    }
   ],
   "source": [
    "J_mat"
   ]
  },
  {
   "cell_type": "code",
   "execution_count": null,
   "metadata": {},
   "outputs": [],
   "source": []
  }
 ],
 "metadata": {
  "kernelspec": {
   "display_name": "Python 3",
   "language": "python",
   "name": "python3"
  },
  "language_info": {
   "codemirror_mode": {
    "name": "ipython",
    "version": 3
   },
   "file_extension": ".py",
   "mimetype": "text/x-python",
   "name": "python",
   "nbconvert_exporter": "python",
   "pygments_lexer": "ipython3",
   "version": "3.6.8"
  }
 },
 "nbformat": 4,
 "nbformat_minor": 2
}
